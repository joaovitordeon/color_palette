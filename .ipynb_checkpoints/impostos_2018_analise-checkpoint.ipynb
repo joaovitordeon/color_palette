{
 "cells": [
  {
   "cell_type": "code",
   "execution_count": 13,
   "metadata": {},
   "outputs": [],
   "source": [
    "import seaborn as sns\n",
    "import pandas as pd\n",
    "import matplotlib.pyplot as plt\n",
    "import matplotlib\n",
    "import matplotlib.ticker as ticker\n",
    "import squarify\n",
    "#import our palette class from colors.py\n",
    "from colors import Palette\n",
    "\n",
    "# %matplotlib notebook\n",
    "%matplotlib inline"
   ]
  },
  {
   "cell_type": "code",
   "execution_count": 14,
   "metadata": {
    "collapsed": true
   },
   "outputs": [],
   "source": [
    "# obter o dataset dos impostos de 2018"
   ]
  },
  {
   "cell_type": "code",
   "execution_count": 15,
   "metadata": {
    "collapsed": true
   },
   "outputs": [],
   "source": [
    "df = pd.read_csv('impostos_2018')"
   ]
  },
  {
   "cell_type": "code",
   "execution_count": 16,
   "metadata": {
    "collapsed": true
   },
   "outputs": [],
   "source": [
    "df.index = df['Unnamed: 0'].values"
   ]
  },
  {
   "cell_type": "code",
   "execution_count": 17,
   "metadata": {
    "collapsed": true
   },
   "outputs": [],
   "source": [
    "df.drop(columns=df.columns[0], inplace=True)"
   ]
  },
  {
   "cell_type": "code",
   "execution_count": 18,
   "metadata": {
    "scrolled": true
   },
   "outputs": [
    {
     "data": {
      "text/html": [
       "<div>\n",
       "<style scoped>\n",
       "    .dataframe tbody tr th:only-of-type {\n",
       "        vertical-align: middle;\n",
       "    }\n",
       "\n",
       "    .dataframe tbody tr th {\n",
       "        vertical-align: top;\n",
       "    }\n",
       "\n",
       "    .dataframe thead th {\n",
       "        text-align: right;\n",
       "    }\n",
       "</style>\n",
       "<table border=\"1\" class=\"dataframe\">\n",
       "  <thead>\n",
       "    <tr style=\"text-align: right;\">\n",
       "      <th></th>\n",
       "      <th>1</th>\n",
       "      <th>2</th>\n",
       "      <th>3</th>\n",
       "      <th>4</th>\n",
       "      <th>5</th>\n",
       "      <th>6</th>\n",
       "      <th>7</th>\n",
       "      <th>8</th>\n",
       "      <th>9</th>\n",
       "      <th>10</th>\n",
       "      <th>11</th>\n",
       "      <th>12</th>\n",
       "    </tr>\n",
       "  </thead>\n",
       "  <tbody>\n",
       "    <tr>\n",
       "      <th>Estadual</th>\n",
       "      <td>6.697903e+10</td>\n",
       "      <td>4.870228e+10</td>\n",
       "      <td>5.147431e+10</td>\n",
       "      <td>5.629541e+10</td>\n",
       "      <td>4.965523e+10</td>\n",
       "      <td>5.235668e+10</td>\n",
       "      <td>5.372910e+10</td>\n",
       "      <td>5.133238e+10</td>\n",
       "      <td>5.184065e+10</td>\n",
       "      <td>6.308679e+10</td>\n",
       "      <td>5.449734e+10</td>\n",
       "      <td>6.318690e+10</td>\n",
       "    </tr>\n",
       "    <tr>\n",
       "      <th>Federal</th>\n",
       "      <td>1.522279e+11</td>\n",
       "      <td>1.106890e+11</td>\n",
       "      <td>1.169892e+11</td>\n",
       "      <td>1.279465e+11</td>\n",
       "      <td>1.128549e+11</td>\n",
       "      <td>1.189947e+11</td>\n",
       "      <td>1.222520e+11</td>\n",
       "      <td>1.166667e+11</td>\n",
       "      <td>1.175650e+11</td>\n",
       "      <td>1.433817e+11</td>\n",
       "      <td>1.238599e+11</td>\n",
       "      <td>1.434499e+11</td>\n",
       "    </tr>\n",
       "    <tr>\n",
       "      <th>Municipal</th>\n",
       "      <td>1.566376e+10</td>\n",
       "      <td>1.138955e+10</td>\n",
       "      <td>1.203782e+10</td>\n",
       "      <td>1.316528e+10</td>\n",
       "      <td>1.161240e+10</td>\n",
       "      <td>1.224417e+10</td>\n",
       "      <td>1.257934e+10</td>\n",
       "      <td>1.200462e+10</td>\n",
       "      <td>1.212349e+10</td>\n",
       "      <td>1.475352e+10</td>\n",
       "      <td>1.274478e+10</td>\n",
       "      <td>1.477693e+10</td>\n",
       "    </tr>\n",
       "  </tbody>\n",
       "</table>\n",
       "</div>"
      ],
      "text/plain": [
       "                      1             2             3             4  \\\n",
       "Estadual   6.697903e+10  4.870228e+10  5.147431e+10  5.629541e+10   \n",
       "Federal    1.522279e+11  1.106890e+11  1.169892e+11  1.279465e+11   \n",
       "Municipal  1.566376e+10  1.138955e+10  1.203782e+10  1.316528e+10   \n",
       "\n",
       "                      5             6             7             8  \\\n",
       "Estadual   4.965523e+10  5.235668e+10  5.372910e+10  5.133238e+10   \n",
       "Federal    1.128549e+11  1.189947e+11  1.222520e+11  1.166667e+11   \n",
       "Municipal  1.161240e+10  1.224417e+10  1.257934e+10  1.200462e+10   \n",
       "\n",
       "                      9            10            11            12  \n",
       "Estadual   5.184065e+10  6.308679e+10  5.449734e+10  6.318690e+10  \n",
       "Federal    1.175650e+11  1.433817e+11  1.238599e+11  1.434499e+11  \n",
       "Municipal  1.212349e+10  1.475352e+10  1.274478e+10  1.477693e+10  "
      ]
     },
     "execution_count": 18,
     "metadata": {},
     "output_type": "execute_result"
    }
   ],
   "source": [
    "df"
   ]
  },
  {
   "cell_type": "code",
   "execution_count": 19,
   "metadata": {
    "collapsed": true
   },
   "outputs": [],
   "source": [
    "#--------------------------------------------------------------------------------------------------------------"
   ]
  },
  {
   "cell_type": "code",
   "execution_count": 20,
   "metadata": {
    "collapsed": true
   },
   "outputs": [],
   "source": [
    "# vamor criar nossa pallete de cores "
   ]
  },
  {
   "cell_type": "code",
   "execution_count": 21,
   "metadata": {},
   "outputs": [
    {
     "ename": "AttributeError",
     "evalue": "'NoneType' object has no attribute 'append'",
     "output_type": "error",
     "traceback": [
      "\u001b[0;31m---------------------------------------------------------------------------\u001b[0m",
      "\u001b[0;31mAttributeError\u001b[0m                            Traceback (most recent call last)",
      "\u001b[0;32m<ipython-input-21-fb9589821fdd>\u001b[0m in \u001b[0;36m<module>\u001b[0;34m()\u001b[0m\n\u001b[0;32m----> 1\u001b[0;31m \u001b[0mcores1\u001b[0m \u001b[0;34m=\u001b[0m \u001b[0mPalette\u001b[0m\u001b[0;34m(\u001b[0m\u001b[0;36m9\u001b[0m\u001b[0;34m,\u001b[0m \u001b[0;36m0.65\u001b[0m\u001b[0;34m,\u001b[0m \u001b[0;34m'spring'\u001b[0m\u001b[0;34m)\u001b[0m\u001b[0;34m\u001b[0m\u001b[0m\n\u001b[0m",
      "\u001b[0;32m~/Documentos/color_palette/colors.py\u001b[0m in \u001b[0;36m__init__\u001b[0;34m(self, num, alpha, palette_name)\u001b[0m\n\u001b[1;32m     28\u001b[0m \u001b[0;34m\u001b[0m\u001b[0m\n\u001b[1;32m     29\u001b[0m                         \u001b[0;32mfor\u001b[0m \u001b[0mitem\u001b[0m \u001b[0;32min\u001b[0m \u001b[0maux\u001b[0m\u001b[0;34m:\u001b[0m\u001b[0;34m\u001b[0m\u001b[0m\n\u001b[0;32m---> 30\u001b[0;31m                                 \u001b[0mself\u001b[0m\u001b[0;34m.\u001b[0m\u001b[0mcolors\u001b[0m\u001b[0;34m.\u001b[0m\u001b[0mappend\u001b[0m\u001b[0;34m(\u001b[0m\u001b[0;34m[\u001b[0m \u001b[0mround\u001b[0m\u001b[0;34m(\u001b[0m\u001b[0mv\u001b[0m\u001b[0;34m,\u001b[0m\u001b[0;36m3\u001b[0m\u001b[0;34m)\u001b[0m \u001b[0;32mfor\u001b[0m \u001b[0mv\u001b[0m \u001b[0;32min\u001b[0m \u001b[0mitem\u001b[0m \u001b[0;34m]\u001b[0m\u001b[0;34m)\u001b[0m\u001b[0;34m\u001b[0m\u001b[0m\n\u001b[0m\u001b[1;32m     31\u001b[0m \u001b[0;34m\u001b[0m\u001b[0m\n\u001b[1;32m     32\u001b[0m         \u001b[0;32mdef\u001b[0m \u001b[0mget_colors\u001b[0m\u001b[0;34m(\u001b[0m\u001b[0mself\u001b[0m\u001b[0;34m)\u001b[0m\u001b[0;34m:\u001b[0m\u001b[0;34m\u001b[0m\u001b[0m\n",
      "\u001b[0;31mAttributeError\u001b[0m: 'NoneType' object has no attribute 'append'"
     ]
    }
   ],
   "source": [
    "cores1 = Palette(9, 0.65, 'spring')"
   ]
  },
  {
   "cell_type": "code",
   "execution_count": null,
   "metadata": {
    "scrolled": true
   },
   "outputs": [],
   "source": [
    "cores1.graph()"
   ]
  },
  {
   "cell_type": "code",
   "execution_count": null,
   "metadata": {
    "collapsed": true
   },
   "outputs": [],
   "source": [
    "# obeter os codigos RGBA's atraves do nosso metodo 'get_colors'"
   ]
  },
  {
   "cell_type": "code",
   "execution_count": null,
   "metadata": {
    "collapsed": true,
    "scrolled": true
   },
   "outputs": [],
   "source": [
    "cores_lista1 = cores1.get_colors();"
   ]
  },
  {
   "cell_type": "code",
   "execution_count": null,
   "metadata": {},
   "outputs": [],
   "source": [
    "fig, ax = plt.subplots(figsize=(16,7));\n",
    "\n",
    "ax.plot(df.iloc[0,:] , linewidth=8, marker='^',label = df.index[0] , color=cores_lista1[0]) # primeira cor\n",
    "ax.plot(df.iloc[1,:] , linewidth=8, marker='^',label = df.index[1] , color=cores_lista1[8]) # cor da metade\n",
    "ax.plot(df.iloc[2,:] , linewidth=8, marker='^',label = df.index[2] , color=cores_lista1[-1]) # ultima cor\n",
    "\n",
    "ticks_x = ticker.FuncFormatter(lambda x, pos: '{0:g}'.format(x/1e9)) # bilions scale\n",
    "ax.yaxis.set_major_formatter(ticks_x)\n",
    "\n",
    "plt.xticks(df.columns,  fontsize=14 , weight='bold')\n",
    "plt.yticks(fontsize=14 , weight='bold')\n",
    "\n",
    "ax.spines['right'].set_visible(False)\n",
    "ax.spines['top'].set_visible(False)\n",
    "ax.spines['left'].set_visible(False)\n",
    "ax.spines['bottom'].set_visible(False)\n",
    "\n",
    "plt.legend(fontsize=15);\n",
    "plt.ylabel('Bilhões de reais ($RS)', {'weight':'bold', 'fontsize': 14  })\n",
    "plt.xlabel('Mês', {'weight':'bold', 'fontsize': 14  })\n",
    "plt.title('Soma de tributos mensais (2018)', fontsize=16, weight='bold');\n",
    "plt.show()"
   ]
  },
  {
   "cell_type": "code",
   "execution_count": null,
   "metadata": {
    "collapsed": true
   },
   "outputs": [],
   "source": [
    "#---------------------------------------------------tree map----------------------------------------"
   ]
  },
  {
   "cell_type": "code",
   "execution_count": null,
   "metadata": {
    "collapsed": true
   },
   "outputs": [],
   "source": [
    "cores2 = Palette(8, 0.6, 'hsv')"
   ]
  },
  {
   "cell_type": "code",
   "execution_count": null,
   "metadata": {
    "scrolled": true
   },
   "outputs": [],
   "source": [
    "cores2.graph()"
   ]
  },
  {
   "cell_type": "code",
   "execution_count": null,
   "metadata": {
    "collapsed": true
   },
   "outputs": [],
   "source": [
    "cores_lista2 = cores2.get_colors();"
   ]
  },
  {
   "cell_type": "code",
   "execution_count": null,
   "metadata": {
    "collapsed": true
   },
   "outputs": [],
   "source": [
    "# obter a media anual em bilhões\n",
    "media_anual = df.mean(axis=1)/1e9"
   ]
  },
  {
   "cell_type": "code",
   "execution_count": null,
   "metadata": {},
   "outputs": [],
   "source": [
    "labels = [ \" {} \\n {}\".format(nome,round(num,3)) for nome, num in zip(media_anual.index,media_anual.values) ]\n",
    "\n",
    "fig, ax = plt.subplots(figsize=(15,8));\n",
    "squarify.plot(sizes=media_anual.values, label=labels , color=cores_lista2[-4:-1:] , text_kwargs={'fontsize':10, 'weight':'heavy'})\n",
    "plt.axis('off')\n",
    "plt.title('Imposto médio em bilhões (2018)', fontsize=18, weight ='heavy')\n",
    "plt.show()"
   ]
  }
 ],
 "metadata": {
  "kernelspec": {
   "display_name": "Python 3",
   "language": "python",
   "name": "python3"
  },
  "language_info": {
   "codemirror_mode": {
    "name": "ipython",
    "version": 3
   },
   "file_extension": ".py",
   "mimetype": "text/x-python",
   "name": "python",
   "nbconvert_exporter": "python",
   "pygments_lexer": "ipython3",
   "version": "3.6.3"
  }
 },
 "nbformat": 4,
 "nbformat_minor": 2
}
